{
 "cells": [
  {
   "cell_type": "code",
   "execution_count": 88,
   "metadata": {},
   "outputs": [
    {
     "name": "stderr",
     "output_type": "stream",
     "text": [
      "WARNING: replacing module amath586.\n"
     ]
    }
   ],
   "source": [
    "using FFTW, Plots, LinearAlgebra, LaTeXStrings, SparseArrays, Printf\n",
    "include(\"./amath586.jl\")\n",
    "using .amath586\n",
    "import Base: diff, *"
   ]
  },
  {
   "cell_type": "markdown",
   "metadata": {},
   "source": [
    "# Exponential integration using the FFT ( $O(m \\log m)$ complexity )\n",
    "\n",
    "We will work on the periodic interval $[-L,L)$ with a uniform mgrid."
   ]
  },
  {
   "cell_type": "code",
   "execution_count": null,
   "metadata": {},
   "outputs": [],
   "source": [
    "L = 11\n",
    "m = 20\n",
    "X = -L .+ 2*L*(0:m-1)/m"
   ]
  },
  {
   "cell_type": "markdown",
   "metadata": {},
   "source": [
    "Given a function $f: [-L, L) \\to \\mathbb C$ the FFT allows us to find sum of complex exponentials that interpolate it at the chosen mgrid points.  The following is a handy way to see what `fft` is doing."
   ]
  },
  {
   "cell_type": "code",
   "execution_count": null,
   "metadata": {},
   "outputs": [],
   "source": [
    "rnd = xx -> map(x -> round(x, digits = 5),xx)\n",
    "mfftshift = x -> circshift(fftshift(x), isodd(length(x)) ? 1 : 0)\n",
    "mfft = x -> fftshift(fft(fftshift(x),1)) # fft(x,1) is used so that\n",
    "# when we operate on matrices below, the behavior is as desired.\n",
    "mifft = x -> mfftshift(ifft(mfftshift(x),1))\n",
    "mgrid = (n,L) -> -L .+ 2*L*(0:n-1)/n"
   ]
  },
  {
   "cell_type": "code",
   "execution_count": null,
   "metadata": {},
   "outputs": [],
   "source": [
    "N₋ = m -> convert(Int64,floor(m/2))\n",
    "N₊ = m -> convert(Int64,floor((m-1)/2))"
   ]
  },
  {
   "cell_type": "code",
   "execution_count": null,
   "metadata": {},
   "outputs": [],
   "source": [
    "f = x -> exp.(4im*pi*x/L)\n",
    "hcat( mfft(f(mgrid(m,L))) |> rnd, -N₋(m):N₊(m))"
   ]
  },
  {
   "cell_type": "code",
   "execution_count": null,
   "metadata": {},
   "outputs": [],
   "source": [
    "u = 1.0:10 |> Array\n",
    "u |> display\n",
    "u - mifft(mfft(u)) |> rnd"
   ]
  },
  {
   "cell_type": "markdown",
   "metadata": {},
   "source": [
    "The behavior here is a bit different depending on whether $m$ is even or odd.  For $m \\geq 1$, Define $m_+ = \\lfloor (m-1)/2 \\rfloor$, $m_- = \\lfloor m/2 \\rfloor$.  These values are set so that $m_+ + m_- + 1 = m$.  Then if $m$ is even `c = fftshift(fft(fftshift(f(X))))` returns coefficients $c_1 = \\mathrm{\\tt c[1]},\\ldots,c_m = \\mathrm{\\tt c[m]}$ such that\n",
    "\n",
    "\\begin{align*}\n",
    "f(x) \\approx I_mf(x) := \\frac{1}{m} \\sum_{\\omega = - m_-}^{m_+} c_{\\omega + m_- + 1} e^{\\pi i \\omega x/L},\n",
    "\\end{align*}\n",
    "\n",
    "in the sense that $I_mf(\\mathrm{\\tt X}) = f(\\mathrm{\\tt X})$, i.e., $I_mf$ interpolates $f$ at the values `X`.  More is true.  One can define a norm by\n",
    "\n",
    "\\begin{align*}\n",
    "\\|f\\|_{H^s}^2 := \\sum_{\\omega=-\\infty}^{\\infty} (1 + |\\omega|)^{2s} |\\hat f_\\omega|^2, \\quad \\hat f_\\omega = \\frac{1}{2L} \\int_{-L}^L e^{-\\pi i \\omega x/L} f(x) dx.\n",
    "\\end{align*}\n",
    "\n",
    "A theorem of Kress and Sloan (1993) states that\n",
    "\n",
    "\\begin{align*}\n",
    "\\|f - I_mf\\|_{H^s} \\leq C_{L,t,s} m^{s-t} \\|f\\|_{H^t}, \\quad s > 1/2.\n",
    "\\end{align*}\n",
    "\n",
    "So, if $f$ is infinitely differentiable and periodic then $t$ can be as large as one likes, giving\n",
    "\n",
    "\\begin{align*}\n",
    "f - I_mf = O(m^{-\\sigma}), \\quad \\text{ for any } \\sigma > 0.\n",
    "\\end{align*}\n",
    "\n",
    "This is often termed \"spectral convergence\" --- at a rate faster than any polynomial rate. \n",
    "\n",
    "If $m$ is odd, the coefficients aren't quite the same."
   ]
  },
  {
   "cell_type": "code",
   "execution_count": null,
   "metadata": {},
   "outputs": [],
   "source": [
    "m = 6\n",
    "L = 10\n",
    "f = x -> exp.(1*1im*pi*x/L)\n",
    "out = mfft(f(mgrid(m,L))) |> rnd"
   ]
  },
  {
   "cell_type": "code",
   "execution_count": null,
   "metadata": {},
   "outputs": [],
   "source": [
    "m = 5\n",
    "L = 10\n",
    "f = x -> exp.(1*1im*pi*x/L)\n",
    "out = mfft(f(mgrid(m,L))) |> rnd"
   ]
  },
  {
   "cell_type": "code",
   "execution_count": null,
   "metadata": {},
   "outputs": [],
   "source": [
    "struct trig_interp\n",
    "    L::Float64\n",
    "    c::Vector{Complex{Float64}}\n",
    "end\n",
    "\n",
    "function (tr::trig_interp)(x) # just sums the Fourier series!\n",
    "    m = length(tr.c)\n",
    "    mm = convert(Int64,floor( m/2 ))\n",
    "    σ = isodd(m) ? 1im*pi/m : 0. # if n is odd we need to rotate coefs\n",
    "    ex = exp.(-1im*pi*mm*x/tr.L + mm*σ)\n",
    "    ex1 = exp.(1im*pi*x/tr.L-σ)\n",
    "    sum = tr.c[1]*ex\n",
    "    for i = 2:length(tr.c)\n",
    "        ex  =  ex.*ex1\n",
    "        sum += tr.c[i]*ex\n",
    "    end\n",
    "    return sum/m\n",
    "end"
   ]
  },
  {
   "cell_type": "code",
   "execution_count": null,
   "metadata": {},
   "outputs": [],
   "source": [
    "L = 10.\n",
    "n = 51\n",
    "X = mgrid(n,L)\n",
    "f = x -> exp.(-cos.(pi*x/L))\n",
    "fm = trig_interp(L,mfft(f(X)));"
   ]
  },
  {
   "cell_type": "code",
   "execution_count": null,
   "metadata": {},
   "outputs": [],
   "source": [
    "fm(.3)"
   ]
  },
  {
   "cell_type": "code",
   "execution_count": null,
   "metadata": {},
   "outputs": [],
   "source": [
    "f(.1) - fm(.1)"
   ]
  },
  {
   "cell_type": "code",
   "execution_count": null,
   "metadata": {},
   "outputs": [],
   "source": [
    "L = 10\n",
    "f = x -> exp.(-cos.(10*pi*x/L))\n",
    "\n",
    "data = []\n",
    "ms = []\n",
    "for m = 11:5:350\n",
    "    X = mgrid(m,L)\n",
    "    fn = trig_interp(L,mfft(f(X)))\n",
    "    append!(data,abs(fn(.1)-f(.1)))\n",
    "    append!(ms,m)\n",
    "end"
   ]
  },
  {
   "cell_type": "markdown",
   "metadata": {},
   "source": [
    "A concave graph indicates spectral convergence of $I_nf(0.1)$ to $f(0.1)$."
   ]
  },
  {
   "cell_type": "code",
   "execution_count": null,
   "metadata": {},
   "outputs": [],
   "source": [
    "plot(ms,data,yaxis = :log, label = \"\", grid = true, framestyle = :box)\n",
    "plot!(ms,data,yaxis = :log, seriestype = :scatter, label = \"Errors at x = 0.1\")"
   ]
  },
  {
   "cell_type": "markdown",
   "metadata": {},
   "source": [
    "## Differentiation\n",
    "\n",
    "To work out how to approximate derivatives, we differentiate\n",
    "\n",
    "\\begin{align*}\n",
    "I_mf(x) = \\frac{1}{m} \\sum_{\\omega = - m_-}^{m_+} c_{\\omega + n_- - n} e^{\\pi i \\omega x/L}\n",
    "\\end{align*}\n",
    "\n",
    "giving\n",
    "\n",
    "\\begin{align*}\n",
    "\\frac{d^j}{dx^j} I_mf(x) = \\frac{1}{m} \\sum_{\\omega = - m_-}^{m_+} c_{\\omega + m_- - m} (\\pi i \\omega/L)^j e^{\\pi i \\omega x/L}\n",
    "\\end{align*}"
   ]
  },
  {
   "cell_type": "code",
   "execution_count": null,
   "metadata": {},
   "outputs": [],
   "source": [
    "diffvec = (L,m,j) -> ((-floor(m/2):1:floor((m-1)/2))*(1im*pi/L)).^j"
   ]
  },
  {
   "cell_type": "code",
   "execution_count": null,
   "metadata": {},
   "outputs": [],
   "source": [
    "function diff(tr::trig_interp,j=1)\n",
    "    return trig_interp(tr.L,diffvec(L,length(tr.c),j).*tr.c)\n",
    "end"
   ]
  },
  {
   "cell_type": "code",
   "execution_count": null,
   "metadata": {},
   "outputs": [],
   "source": [
    "L = 10.\n",
    "m = 51\n",
    "X = mgrid(m,L)\n",
    "f = x -> exp.(-cos.(pi*x/L))\n",
    "df = x -> f(x).*(pi/L)*sin.(pi*x/L)\n",
    "fm = trig_interp(L,mfft(f(X)));\n",
    "dfm = diff(fm);"
   ]
  },
  {
   "cell_type": "code",
   "execution_count": null,
   "metadata": {},
   "outputs": [],
   "source": [
    "dfm(.1) - df(.1)"
   ]
  },
  {
   "cell_type": "code",
   "execution_count": null,
   "metadata": {},
   "outputs": [],
   "source": [
    "dfm"
   ]
  },
  {
   "cell_type": "markdown",
   "metadata": {},
   "source": [
    "These ideas were pioneered in the `chebfun` package written for Matlab."
   ]
  },
  {
   "cell_type": "markdown",
   "metadata": {},
   "source": [
    "## A linear higher-order PDE\n",
    "\n",
    "Since we are working with Fourier series and Fourier interpolants we will suppose periodic boundary conditions, always.\n",
    "\n",
    "Consider\n",
    "\n",
    "\\begin{align*}\n",
    "    \\begin{cases} u_t + \\gamma u_{xxx} = 0,\\\\\n",
    "    u(x,0) = \\eta(x). \\end{cases}\n",
    "\\end{align*}\n",
    "\n",
    "It is straightforward to verify that for any constant $\\nu$\n",
    "\n",
    "\\begin{align*}\n",
    " u(x,t) = e^{i \\nu x + i \\gamma \\nu^3 t}\n",
    "\\end{align*}\n",
    "\n",
    "is a solution.  This implies that if\n",
    "\n",
    "\\begin{align*}\n",
    "    \\eta(x) = \\sum_{\\omega=-\\infty}^\\infty \\hat \\eta_\\omega e^{\\pi i \\omega x/L}\n",
    "\\end{align*}\n",
    "\n",
    "then\n",
    "\n",
    "\\begin{align*}\n",
    "    u(x,t) = \\sum_{\\omega=-\\infty}^\\infty \\hat \\eta_\\omega e^{\\pi i \\omega x/L + i  \\gamma (\\pi \\omega/L)^3 t}\n",
    "\\end{align*}\n",
    "\n",
    "provided the series converges in a desired sense.  In practice, we approximate $\\eta$ using the FFT and then no time-stepping is needed because of this last formula."
   ]
  },
  {
   "cell_type": "code",
   "execution_count": null,
   "metadata": {},
   "outputs": [],
   "source": [
    "anim = Animation()\n",
    "η = x -> exp.(-cos.(4*pi*x/L))\n",
    "\n",
    "L = 50.\n",
    "m = 2^10\n",
    "γ = 1.\n",
    "X = mgrid(m,L)\n",
    "c = mfft(η(X))\n",
    "D3 = γ*diffvec(L,m,3)\n",
    "U = mifft(c)\n",
    "cl = [-2,5]\n",
    "k = 0.1\n",
    "t = 0.0\n",
    "\n",
    "\n",
    "plot(X, U |> real, xaxis = [-L,L], yaxis = cl, lw=3,label = @sprintf(\"u(x,t), t = %1.2f\",t), fill = (cl[1],:lightblue)) |> IJulia.display\n",
    "frame(anim)\n",
    "\n",
    "for i = 2:200\n",
    "    t += k\n",
    "    U = mifft(exp.(-D3*t).*c)\n",
    "    IJulia.clear_output(true)        \n",
    "    plot(X, U |> real, xaxis = [-L,L], yaxis = cl, lw=3,label = @sprintf(\"u(x,t), t = %1.2f\",t), fill = (cl[1],:lightblue)) |> IJulia.display  \n",
    "    frame(anim)\n",
    "end\n",
    "gif(anim,\"linear_kdv_expcos.gif\")"
   ]
  },
  {
   "cell_type": "code",
   "execution_count": null,
   "metadata": {},
   "outputs": [],
   "source": [
    "anim = Animation()\n",
    "η = x -> 2*exp.(-3x.^2)\n",
    "\n",
    "L = 50.\n",
    "m = 2^10\n",
    "γ = 2.\n",
    "X = mgrid(m,L)\n",
    "c = mfft(η(X))\n",
    "D3 = γ*diffvec(L,m,3)\n",
    "U = mifft(c)\n",
    "cl = [-2,5]\n",
    "k = 0.01\n",
    "t = 0.0\n",
    "\n",
    "\n",
    "plot(X, U |> real, xaxis = [-L,L], yaxis = cl, lw=3,label = @sprintf(\"u(x,t), t = %1.2f\",t), fill = (cl[1],:lightblue)) |> IJulia.display\n",
    "frame(anim)\n",
    "\n",
    "for i = 2:200\n",
    "    t += k\n",
    "    U = mifft(exp.(-D3*t).*c)\n",
    "    IJulia.clear_output(true)        \n",
    "    plot(X, U |> real, xaxis = [-L,L], yaxis = cl, lw=3,label = @sprintf(\"u(x,t), t = %1.2f\",t), fill = (cl[1],:lightblue)) |> IJulia.display  \n",
    "    frame(anim)\n",
    "end\n",
    "gif(anim,\"linear_kdv_gauss.gif\")"
   ]
  },
  {
   "cell_type": "markdown",
   "metadata": {},
   "source": [
    "## Dispersive quantization"
   ]
  },
  {
   "cell_type": "code",
   "execution_count": null,
   "metadata": {},
   "outputs": [],
   "source": [
    "η = x ->  abs(x) < 0.5 ? 1.0 : 0.0\n",
    "\n",
    "L = pi\n",
    "m = 2^10\n",
    "γ = 1.\n",
    "X = mgrid(m,L)\n",
    "c = mfft(map(η,X))\n",
    "D3 = γ*diffvec(L,m,3)\n",
    "U = mifft(c)\n",
    "cl = [-2,5]\n",
    "k = 0.1\n",
    "t = 0.0\n",
    "\n",
    "\n",
    "plot(X, U |> real, xaxis = [-L,L], yaxis = cl, lw=3,label = @sprintf(\"u(x,t), t = %1.2f\",t), fill = (cl[1],:lightblue)) |> IJulia.display"
   ]
  },
  {
   "cell_type": "code",
   "execution_count": null,
   "metadata": {},
   "outputs": [],
   "source": [
    "anim = Animation()\n",
    "η = x ->  abs(x) < 0.5 ? 1.0 : 0.0\n",
    "\n",
    "L = pi\n",
    "m = 2^10\n",
    "γ = 1.\n",
    "X = mgrid(m,L)\n",
    "c = mfft(map(η,X))\n",
    "D3 = γ*diffvec(L,m,3)\n",
    "U = mifft(c)\n",
    "cl = [-2,5]\n",
    "k = 0.1\n",
    "t = 0.0\n",
    "\n",
    "\n",
    "plot(X, U |> real, xaxis = [-L,L], yaxis = cl, lw=3,label = @sprintf(\"u(x,t), t = %1.2f\",t), fill = (cl[1],:lightblue)) |> IJulia.display\n",
    "frame(anim)\n",
    "\n",
    "for i = 2:200\n",
    "    t += k\n",
    "    U = mifft(exp.(-D3*t).*c)\n",
    "    IJulia.clear_output(true)        \n",
    "    plot(X, U |> real, xaxis = [-L,L], yaxis = cl, lw=3,label = @sprintf(\"u(x,t), t = %1.2f\",t), fill = (cl[1],:lightblue)) |> IJulia.display  \n",
    "    frame(anim)\n",
    "end\n",
    "gif(anim,\"linear_kdv_dq.gif\")"
   ]
  },
  {
   "cell_type": "code",
   "execution_count": null,
   "metadata": {},
   "outputs": [],
   "source": [
    "anim = Animation()\n",
    "η = x ->  abs(x) < 0.5 ? 1.0 : 0.0\n",
    "\n",
    "L = pi\n",
    "m = 2^10\n",
    "γ = 1.\n",
    "X = mgrid(m,L)\n",
    "c = mfft(map(η,X))\n",
    "D3 = γ*diffvec(L,m,3)\n",
    "U = mifft(c)\n",
    "cl = [-2,5]\n",
    "k = 0.1*pi\n",
    "t = 0.0\n",
    "\n",
    "\n",
    "plot(X, U |> real, xaxis = [-L,L], yaxis = cl, lw=3,label = @sprintf(\"u(x,t), t = %1.2f\",t), fill = (cl[1],:lightblue)) |> IJulia.display\n",
    "frame(anim)\n",
    "\n",
    "for i = 2:200\n",
    "    t += k\n",
    "    U = mifft(exp.(-D3*t).*c)\n",
    "    IJulia.clear_output(true)        \n",
    "    plot(X, U |> real, xaxis = [-L,L], yaxis = cl, lw=3,label = @sprintf(\"u(x,t), t = %1.2f\",t), fill = (cl[1],:lightblue)) |> IJulia.display  \n",
    "    frame(anim)\n",
    "end\n",
    "gif(anim,\"linear_kdv_dq_2.gif\")"
   ]
  },
  {
   "cell_type": "code",
   "execution_count": null,
   "metadata": {},
   "outputs": [],
   "source": [
    "η = x ->  abs(x) < 0.5 ? 1.0 : 0.0\n",
    "\n",
    "L = pi\n",
    "m = 2^10\n",
    "γ = 1.\n",
    "X = mgrid(m,L)\n",
    "c = mfft(map(η,X))\n",
    "D3 = γ*diffvec(L,m,3)\n",
    "U = mifft(c)\n",
    "cl = [-2,5]\n",
    "t = 4pi\n",
    "\n",
    "U = mifft(exp.(-D3*t).*c)\n",
    "plot(X, U |> real, xaxis = [-L,L], yaxis = cl, lw=3,label = @sprintf(\"u(x,t), t = %1.2f\",t), fill = (cl[1],:lightblue)) |> IJulia.display"
   ]
  },
  {
   "cell_type": "markdown",
   "metadata": {},
   "source": [
    "## Nonlinear problems"
   ]
  },
  {
   "cell_type": "code",
   "execution_count": null,
   "metadata": {},
   "outputs": [],
   "source": []
  },
  {
   "cell_type": "markdown",
   "metadata": {},
   "source": [
    "While the solution looks interesting, there is no interesting numerical analysis there beyond that which surrounds the FFT because we are essentially just evaluating the series solution.  Things are more interesting when we invoke nonlinearity:\n",
    "\n",
    "\\begin{align*}\n",
    "    \\begin{cases} u_t + \\gamma u_{xxx} + 6 u u_x = 0,\\\\\n",
    "    u(x,0) = \\eta(x). \\end{cases}\n",
    "\\end{align*}\n",
    "\n",
    "This is the celebrated Korteweg-de Vries equation.\n",
    "\n",
    "One approach would be to treat the linear term with an L-stable method and do Strang splitting with the nonlinearity.  We will take another approach that will allow us to use high-order explicit methods for time stepping."
   ]
  },
  {
   "cell_type": "markdown",
   "metadata": {},
   "source": [
    "Supposing that\n",
    "\n",
    "\\begin{align*}\n",
    "u(x,t) = \\sum_{\\omega=-\\infty}^\\infty \\hat u_\\omega(t) e^{\\pi i \\omega x /L} =: \\mathcal F^{-1} (\\hat u)\n",
    "\\end{align*}\n",
    "\n",
    "we derive a bi-infinite system of **nonlinear** ODEs for $\\hat u_\\omega(t)$:\n",
    "\n",
    "\\begin{align*}\n",
    "\\hat u'(t) + \\gamma \\mathcal D^3 \\hat u(t) = - 6 \\mathcal F \\left (\\mathcal F^{-1} (\\hat u(t)) \\mathcal F^{-1} (\\mathcal D \\hat u(t)) \\right).\n",
    "\\end{align*}\n",
    "\n",
    "Here $\\mathcal F$ is the periodic Fourier transform (Fourier series) and $\\mathcal D = \\mathrm{diag} (\\pi i \\omega /L)$ as $\\omega$ varies from $-\\infty$ to $\\infty$.\n",
    "\n",
    "To make this problem computationally tractible we need to first assume that \n",
    "\n",
    "\\begin{align*}\n",
    "u(x,t) = \\sum_{\\omega=-m_-}^{m_+} \\hat u_\\omega(t) e^{\\pi i \\omega x /L},\n",
    "\\end{align*}\n",
    "and we need to replace the full Fourier transform $\\mathcal F$ with the FFT, call it $\\mathcal F_m$ to keep things finite-dimensional with fixed dimension.\n",
    "\n",
    "We then get an $m$-dimensional nonlinear system:\n",
    "\n",
    "\\begin{align*}\n",
    "\\hat u'(t) + \\gamma \\mathcal D_m^3 \\hat u(t) = - 6 \\mathcal F_m \\left (\\mathcal F_m^{-1} (\\hat u(t)) \\mathcal F_m^{-1} (\\mathcal D_m \\hat u(t)) \\right) \n",
    "\\end{align*}\n",
    "\n",
    "Sind $2 uu_x = (u^2)_x$, it beneficial to rewrite this as\n",
    "\n",
    "\\begin{align*}\n",
    "\\hat u'(t) = A_m \\hat u(t) - 3 \\mathcal D_m \\mathcal F_m \\left (\\mathcal F_m^{-1} (\\hat u(t))^2 \\right) =:  A_m \\hat u(t) + \\mathcal N(u(t)), \\quad A_m = - \\gamma \\mathcal D_m^3 .\n",
    "\\end{align*}"
   ]
  },
  {
   "cell_type": "markdown",
   "metadata": {},
   "source": [
    "*** Remark. ***\n",
    "This appears to be very different approach compared to the MOL lines.  But it is not really.  The MOL approach can be realized in this form if one expands\n",
    "\n",
    "$$\\eta(x) = \\sum_{i=0}^{m+1} \\eta(x_i) l_i(x)$$\n",
    "\n",
    "where $l_i(x)$ is a piecewise-linear function satisfying $l_i(x_j) = \\delta_{ij}$.  Then one looks for the evolution of the coefficients of $l_i(x)$ by discretizing the problem.  In this setting the \"transform\" from function values at the mgrid points to coefficients is just the identity map.  In the Fourier setting the transform requires using the FFT which importantly has $O(m \\log m)$ complexity."
   ]
  },
  {
   "cell_type": "markdown",
   "metadata": {},
   "source": [
    "The matrix $A_m$ has very large entries, in general, expecially if $m$ is large. But it is diagonal.  We would be remiss if we did not use this fact in any way.  \n",
    "\n",
    "We examine how to step from $t = 0$ to $t = k$.  Since the PDE is autonomous this is sufficient to deal with a general time step.  Define a new unknown $v(t) = e^{-A_m t} \\hat u(t)$ so that\n",
    "\\begin{align*}\n",
    "    v'(t) &=  e^{-A_m t} \\hat u'(t) -A_m e^{-A_m t} \\hat u(t)  = e^{-A_m t} \\mathcal N(\\hat u(t)),\\\\\n",
    "    \\hat u(t) &= e^{A_m t} v(t).\n",
    "\\end{align*}\n",
    "\n",
    "Examining this over one time step, suppose we have $V^n = \\hat U^n$.  And for forward Euler\n",
    "\n",
    "\\begin{align*}\n",
    "U^{n+1} = U^n + k f(U^n,t_n)\n",
    "\\end{align*}\n",
    "\n",
    "we write using $t_n = 0$\n",
    "\n",
    "\\begin{align*}\n",
    "V^1 &= V^0 + k \\mathcal N(U^0) = U^0 + k  \\mathcal N(U^0),\\\\\n",
    "\\hat U^1 &= e^{A_mk} V^1.\n",
    "\\end{align*}\n",
    "\n",
    "For a the two-step method\n",
    "\n",
    "\\begin{align*}\n",
    "    U^* &= U^n + \\frac{k}{2} f(U^n,t_n),\\\\\n",
    "    U^{n+1} &= U^n + k f\\left( U^*, t_n + \\frac k 2 \\right)\n",
    "\\end{align*}\n",
    "\n",
    "we have, again using $t_n = 0$\n",
    "\n",
    "\\begin{align*}\n",
    "    V^* &=  \\hat U^0 + \\frac{k}{2}\\mathcal N(U^0)\\\\\n",
    "    \\hat U^* &= e^{A_m k/2} V^*\\\\\n",
    "    V^1 &= \\hat U^0 + k e^{-A_m k/2} \\mathcal N(\\hat U^*) = \\hat U^0 + k e^{-A_m k/2} \\mathcal N(e^{A_m k/2} \\hat V^*)\n",
    "    \\hat U^1 = exp(A_m k) V^1\n",
    "\\end{align*}\n",
    "\n",
    "From this we can see that keeping track of the intermediate value $\\hat U^*$ is unnecessary and this this all amounts to applying the multi-stage method with $f(v,t) = e^{-A_m t} \\mathcal N(e^{A_m t} v)$ for one step to go from $V^n = U^n$ to $V^{n+1}$ and then setting $U^{n+1} = e^{A_m t}V^{n+1}$.\n",
    "\n",
    "Since $D_n^3$ has purely imaginary diagonal entries $\\exp( D_n^3)$ is bounded and we can hope that explicit methods can be stable.  Furthermore, since the nonlinearity $\\mathcal N$ involves only the first derivative we have more evidence to hope that explicit methods work well.  The code below implements the nonlinearity and applies Runge-Kutta 4."
   ]
  },
  {
   "cell_type": "markdown",
   "metadata": {},
   "source": [
    "***Remark.*** An alternate approach proceeds by discretizing the Duhamel integral\n",
    "\n",
    "\\begin{align*}\n",
    "  \\hat u(t) = e^{A_m t} \\hat u(0) + \\int_0^t e^{A_m (t-\\tau)} \\mathcal N(\\hat u(\\tau)) d \\tau.\n",
    "\\end{align*}\n",
    "\n",
    "See Section 11.6 for references."
   ]
  },
  {
   "cell_type": "code",
   "execution_count": null,
   "metadata": {},
   "outputs": [],
   "source": [
    "function rk4(F,k,t,c)\n",
    "    f1 = k*F(c,t)\n",
    "    f2 = k*F(c + .5*f1, t + .5*k)\n",
    "    f3 = k*F(c + .5*f2, t + .5*k)\n",
    "    f4 = k*F(c + f3, t + k)\n",
    "    return c + 1/6.0*(f1 + 2.0*f2 + 2.0*f3 + f4)\n",
    "end"
   ]
  },
  {
   "cell_type": "code",
   "execution_count": null,
   "metadata": {},
   "outputs": [],
   "source": [
    "anim = Animation()\n",
    "T = 4\n",
    "η = x -> exp.(-cos.(4*pi*x/L))\n",
    "\n",
    "L = 50.\n",
    "m = 2^10\n",
    "k = 0.0001\n",
    "\n",
    "γ = 1.\n",
    "X = mgrid(m,L)\n",
    "c = mfft(η(X))\n",
    "U = mifft(c)\n",
    "cl = [-1,6]\n",
    "\n",
    "D = diffvec(L,m,1)\n",
    "Am = -γ*diffvec(L,m,3)\n",
    "\n",
    "F = (v,τ) -> -3*exp.(-Am*τ).*(D.*mfft(mifft(exp.(Am*τ).*v).^2))\n",
    "\n",
    "n = convert(Int64,ceil(T/k))\n",
    "t = 0.0\n",
    "plot(X, U |> real, xaxis = [-L,L], yaxis = cl, lw=3,label = @sprintf(\"u(x,t), t = %1.2f\",t), fill = (cl[1],:lightblue)) |> IJulia.display\n",
    "frame(anim)\n",
    "fr = 100 #frames/unit time\n",
    "tb = convert(Int64,ceil(n/(fr*T)))\n",
    "for i = 2:n+1\n",
    "    c = exp.(Am*k).*rk4(F,k,0.0,c)\n",
    "    t += k\n",
    "    U = mifft(c)\n",
    "    if mod(i-1,tb) ≈ 0.0\n",
    "        IJulia.clear_output(true)        \n",
    "        plot(X, U |> real, xaxis = [-L,L], yaxis = cl, lw=3,label = @sprintf(\"u(x,t), t = %1.2f\",t), fill = (cl[1],:lightblue)) |> IJulia.display  \n",
    "        frame(anim)\n",
    "    end\n",
    "end\n",
    "gif(anim,\"kdv_expcos.gif\")\n"
   ]
  },
  {
   "cell_type": "code",
   "execution_count": null,
   "metadata": {},
   "outputs": [],
   "source": [
    "anim = Animation()\n",
    "T = 4\n",
    "A = 3.0\n",
    "η = x -> A*sech.(sqrt(A/2)*x).^2\n",
    "\n",
    "L = 50.\n",
    "m = 2^10\n",
    "k = 0.0001\n",
    "\n",
    "γ = 1.\n",
    "X = mgrid(m,L)\n",
    "c = mfft(η(X))\n",
    "U = mifft(c)\n",
    "cl = [-4,4]\n",
    "\n",
    "D = diffvec(L,m,1)\n",
    "Am = -γ*diffvec(L,m,3)\n",
    "\n",
    "F = (v,τ) -> -3*exp.(-Am*τ).*(D.*mfft(mifft(exp.(Am*τ).*v).^2))\n",
    "\n",
    "n = convert(Int64,ceil(T/k))\n",
    "t = 0.0\n",
    "plot(X, U |> real, xaxis = [-L,L], yaxis = cl, lw=3,label = @sprintf(\"u(x,t), t = %1.2f\",t), fill = (cl[1],:lightblue)) |> IJulia.display\n",
    "frame(anim)\n",
    "fr = 100 #frames/unit time\n",
    "tb = convert(Int64,ceil(n/(fr*T)))\n",
    "for i = 2:n+1\n",
    "    c = exp.(Am*k).*rk4(F,k,0.0,c)\n",
    "    t += k\n",
    "    U = mifft(c)\n",
    "    if mod(i-1,tb) ≈ 0.0\n",
    "        IJulia.clear_output(true)        \n",
    "        plot(X, U |> real, xaxis = [-L,L], yaxis = cl, lw=3,label = @sprintf(\"u(x,t), t = %1.2f\",t), fill = (cl[1],:lightblue)) |> IJulia.display  \n",
    "        frame(anim)\n",
    "    end\n",
    "end\n",
    "gif(anim,\"kdv_sech.gif\")\n"
   ]
  },
  {
   "cell_type": "code",
   "execution_count": null,
   "metadata": {},
   "outputs": [],
   "source": [
    "anim = Animation()\n",
    "T = 4\n",
    "A = 3.0\n",
    "η = x -> -A*sech.(sqrt(A/2)*x).^2\n",
    "\n",
    "L = 50.\n",
    "m = 2^10\n",
    "k = 0.0001\n",
    "\n",
    "γ = 1.\n",
    "X = mgrid(m,L)\n",
    "c = mfft(η(X))\n",
    "U = mifft(c)\n",
    "cl = [-4,4]\n",
    "\n",
    "D = diffvec(L,m,1)\n",
    "Am = -γ*diffvec(L,m,3)\n",
    "\n",
    "F = (v,τ) -> -3*exp.(-Am*τ).*(D.*mfft(mifft(exp.(Am*τ).*v).^2))\n",
    "\n",
    "n = convert(Int64,ceil(T/k))\n",
    "t = 0.0\n",
    "plot(X, U |> real, xaxis = [-L,L], yaxis = cl, lw=3,label = @sprintf(\"u(x,t), t = %1.2f\",t), fill = (cl[1],:lightblue)) |> IJulia.display\n",
    "frame(anim)\n",
    "fr = 100 #frames/unit time\n",
    "tb = convert(Int64,ceil(n/(fr*T)))\n",
    "for i = 2:n+1\n",
    "    c = exp.(Am*k).*rk4(F,k,0.0,c)\n",
    "    t += k\n",
    "    U = mifft(c)\n",
    "    if mod(i-1,tb) ≈ 0.0\n",
    "        IJulia.clear_output(true)        \n",
    "        plot(X, U |> real, xaxis = [-L,L], yaxis = cl, lw=3,label = @sprintf(\"u(x,t), t = %1.2f\",t), fill = (cl[1],:lightblue)) |> IJulia.display  \n",
    "        frame(anim)\n",
    "    end\n",
    "end\n",
    "gif(anim,\"kdv_neg_sech.gif\")\n"
   ]
  },
  {
   "cell_type": "code",
   "execution_count": null,
   "metadata": {},
   "outputs": [],
   "source": [
    "anim = Animation()\n",
    "T = 4\n",
    "η = x -> 2*exp.(-3x.^2)\n",
    "\n",
    "L = 50.\n",
    "m = 2^10\n",
    "k = 0.0001\n",
    "\n",
    "γ = 1.\n",
    "X = mgrid(m,L)\n",
    "c = mfft(η(X))\n",
    "U = mifft(c)\n",
    "cl = [-1,6]\n",
    "\n",
    "D = diffvec(L,m,1)\n",
    "Am = -γ*diffvec(L,m,3)\n",
    "\n",
    "F = (v,τ) -> -3*exp.(-Am*τ).*(D.*mfft(mifft(exp.(Am*τ).*v).^2))\n",
    "\n",
    "n = convert(Int64,ceil(T/k))\n",
    "t = 0.0\n",
    "plot(X, U |> real, xaxis = [-L,L], yaxis = cl, lw=3,label = @sprintf(\"u(x,t), t = %1.2f\",t), fill = (cl[1],:lightblue)) |> IJulia.display\n",
    "frame(anim)\n",
    "fr = 100 #frames/unit time\n",
    "tb = convert(Int64,ceil(n/(fr*T)))\n",
    "for i = 2:n+1\n",
    "    c = exp.(Am*k).*rk4(F,k,0.0,c)\n",
    "    t += k\n",
    "    U = mifft(c)\n",
    "    if mod(i-1,tb) ≈ 0.0\n",
    "        IJulia.clear_output(true)        \n",
    "        plot(X, U |> real, xaxis = [-L,L], yaxis = cl, lw=3,label = @sprintf(\"u(x,t), t = %1.2f\",t), fill = (cl[1],:lightblue)) |> IJulia.display  \n",
    "        frame(anim)\n",
    "    end\n",
    "end\n",
    "gif(anim,\"kdv_gauss.gif\")"
   ]
  },
  {
   "cell_type": "markdown",
   "metadata": {},
   "source": [
    "# Two spatial dimensions"
   ]
  },
  {
   "cell_type": "code",
   "execution_count": null,
   "metadata": {},
   "outputs": [],
   "source": [
    "mfft2D = X -> X |> mfft |> transpose |> mfft |> transpose\n",
    "mifft2D = X -> X |> transpose |> mifft |> transpose |> mifft"
   ]
  },
  {
   "cell_type": "code",
   "execution_count": null,
   "metadata": {},
   "outputs": [],
   "source": [
    "L = 5.\n",
    "m = 2^6\n",
    "X = mgrid(m,L)\n",
    "f = (x,y) -> exp.(0*1im*pi*x/L).*exp.(1im*pi*y/L)\n",
    "f = (x,y) -> exp.(-2(x.^2 .+ 1.5*y.^2))\n",
    "fx = (x,y) -> (-4*x).*f(x,y)\n",
    "fy = (x,y) -> (-6*y).*f(x,y)"
   ]
  },
  {
   "cell_type": "code",
   "execution_count": null,
   "metadata": {},
   "outputs": [],
   "source": [
    "c = f.(X,X') |> mfft2D;"
   ]
  },
  {
   "cell_type": "code",
   "execution_count": null,
   "metadata": {},
   "outputs": [],
   "source": [
    "struct trig_interp_2D\n",
    "    L::Float64 # assume a square\n",
    "    c::Matrix{Complex{Float64}}\n",
    "end\n",
    "\n",
    "function (tr::trig_interp_2D)(x,y)\n",
    "    m = length(tr.c[1,:])\n",
    "    mm = convert(Int64,floor( m/2 ))\n",
    "    σ = isodd(m) ? 1im*pi/m : 0. # if n is odd we need to rotate coefs\n",
    "    ex = exp.(-1im*pi*mm*y/tr.L + mm*σ)\n",
    "    ex1 = exp.(1im*pi*y/tr.L-σ)\n",
    "    tr1d = trig_interp(tr.L,tr.c[:,1])\n",
    "    sum = tr1d(x)*ex\n",
    "    for i = 2:m\n",
    "        tr1d = trig_interp(tr.L,tr.c[:,i])\n",
    "        ex  =  ex.*ex1\n",
    "        sum += tr1d(x)*ex\n",
    "    end\n",
    "    return sum/m\n",
    "end    "
   ]
  },
  {
   "cell_type": "code",
   "execution_count": null,
   "metadata": {},
   "outputs": [],
   "source": [
    "tr = trig_interp_2D(L,c);"
   ]
  },
  {
   "cell_type": "code",
   "execution_count": null,
   "metadata": {},
   "outputs": [],
   "source": [
    "tr(.3,-.45) - f(.3,-.45)"
   ]
  },
  {
   "cell_type": "code",
   "execution_count": null,
   "metadata": {},
   "outputs": [],
   "source": [
    "D = diffvec(L,m,1)\n",
    "F = (x,y) -> (x,y)\n",
    "Dxy = F.(D,transpose(D));"
   ]
  },
  {
   "cell_type": "code",
   "execution_count": null,
   "metadata": {},
   "outputs": [],
   "source": [
    "cx = map( x -> x[1], Dxy).*c;\n",
    "trx = trig_interp_2D(L,cx);\n",
    "trx(.3,-.45) - fx(.3,-.45)"
   ]
  },
  {
   "cell_type": "code",
   "execution_count": null,
   "metadata": {},
   "outputs": [],
   "source": [
    "cy = map( x -> x[2], Dxy).*c;\n",
    "tr_y = trig_interp_2D(L,cy);\n",
    "tr_y(.3,-.45) - fy(.3,-.45)"
   ]
  },
  {
   "cell_type": "markdown",
   "metadata": {},
   "source": [
    "# Nonlinear Schrödinger equation in one spatial dimension\n",
    "\n",
    "\n",
    "Consider solving\n",
    "\n",
    "$$i u_t + u_{xx} + 2 u |u|^2 = 0$$"
   ]
  },
  {
   "cell_type": "code",
   "execution_count": null,
   "metadata": {},
   "outputs": [],
   "source": [
    "anim = Animation()\n",
    "T = 4\n",
    "η = x -> 2*exp.(-3x.^2 .+ 1im*x)\n",
    "\n",
    "L = 50.\n",
    "m = 2^10\n",
    "k = 0.0001\n",
    "\n",
    "X = mgrid(m,L)\n",
    "c = mfft(η(X))\n",
    "U = mifft(c)\n",
    "cl = [-2,2]\n",
    "\n",
    "d2 = 1im*diffvec(L,m,2)\n",
    "\n",
    "N = v -> 2im*v.*abs2.(v)\n",
    "\n",
    "F = (v,τ) -> exp.(-d2*τ).*(mfft(N(mifft(exp.(d2*τ).*v))))\n",
    "\n",
    "n = convert(Int64,ceil(T/k))\n",
    "t = 0.0\n",
    "plot(X, U |> real, xaxis = [-L,L], yaxis = cl, lw=3,label = @sprintf(\"Re u(x,t), t = %1.2f\",t))\n",
    "plot!(X, U |> imag, xaxis = [-L,L], yaxis = cl, lw=3,label = @sprintf(\"Im u(x,t), t = %1.2f\",t)) |> IJulia.display\n",
    "frame(anim)\n",
    "fr = 50 #frames/unit time\n",
    "tb = convert(Int64,ceil(n/(fr*T)))\n",
    "for i = 2:n+1\n",
    "    c = exp.(d2*k).*rk4(F,k,0.0,c)\n",
    "    t += k\n",
    "    U = mifft(c)\n",
    "    if mod(i-1,tb) ≈ 0.0\n",
    "        IJulia.clear_output(true)        \n",
    "        plot(X, U |> real, xaxis = [-L,L], yaxis = cl, lw=3,label = @sprintf(\"Re u(x,t), t = %1.2f\",t) ) \n",
    "        plot!(X, U |> imag, xaxis = [-L,L], yaxis = cl, lw=3,label = @sprintf(\"Im u(x,t), t = %1.2f\",t) ) |> IJulia.display  \n",
    "        frame(anim)\n",
    "    end\n",
    "end\n",
    "#gif(anim,\"kdv_gauss.gif\")"
   ]
  },
  {
   "cell_type": "code",
   "execution_count": null,
   "metadata": {},
   "outputs": [],
   "source": [
    "anim = Animation()\n",
    "T = 4\n",
    "η = x -> sech.(x).*exp.(1im*x)\n",
    "\n",
    "L = 50.\n",
    "m = 2^10\n",
    "k = 0.0001\n",
    "\n",
    "X = mgrid(m,L)\n",
    "c = mfft(η(X))\n",
    "U = mifft(c)\n",
    "cl = [-2,2]\n",
    "\n",
    "d2 = 1im*diffvec(L,m,2)\n",
    "\n",
    "N = v -> 2im*v.*abs2.(v)\n",
    "\n",
    "F = (v,τ) -> exp.(-d2*τ).*(mfft(N(mifft(exp.(d2*τ).*v))))\n",
    "\n",
    "n = convert(Int64,ceil(T/k))\n",
    "t = 0.0\n",
    "plot(X, U |> real, xaxis = [-L,L], yaxis = cl, lw=3,label = @sprintf(\"Re u(x,t), t = %1.2f\",t))\n",
    "plot!(X, U |> imag, xaxis = [-L,L], yaxis = cl, lw=3,label = @sprintf(\"Im u(x,t), t = %1.2f\",t)) |> IJulia.display\n",
    "frame(anim)\n",
    "fr = 50 #frames/unit time\n",
    "tb = convert(Int64,ceil(n/(fr*T)))\n",
    "for i = 2:n+1\n",
    "    c = exp.(d2*k).*rk4(F,k,0.0,c)\n",
    "    t += k\n",
    "    U = mifft(c)\n",
    "    if mod(i-1,tb) ≈ 0.0\n",
    "        IJulia.clear_output(true)        \n",
    "        plot(X, U |> real, xaxis = [-L,L], yaxis = cl, lw=3,label = @sprintf(\"Re u(x,t), t = %1.2f\",t) ) \n",
    "        plot!(X, U |> imag, xaxis = [-L,L], yaxis = cl, lw=3,label = @sprintf(\"Im u(x,t), t = %1.2f\",t) ) |> IJulia.display  \n",
    "        frame(anim)\n",
    "    end\n",
    "end\n",
    "#gif(anim,\"kdv_gauss.gif\")"
   ]
  },
  {
   "cell_type": "markdown",
   "metadata": {},
   "source": [
    "# Nonlinear Schrödinger equation in two spatial dimensions\n",
    "\n",
    "\n",
    "Consider solving\n",
    "\n",
    "$$i u_t + u_{xx} +u_{yy} + 2 u |u|^2 = 0$$"
   ]
  },
  {
   "cell_type": "code",
   "execution_count": null,
   "metadata": {},
   "outputs": [],
   "source": [
    "function plot_NLS(U,x,y,t,cl,width=800)\n",
    "    p1 = surface(x, y, U[end:-1:1,:], zaxis = [cl[1],cl[2]], clims= cl, aspectratio = .6, xlabel = L\"x\", ylabel = L\"y\", zlabel = L\"Re u(x,y,t)\")\n",
    "    p2 = contour(x, y, U[end:-1:1,:], clims=cl, fill = true, aspectratio = 1, xlabel = L\"x\", ylabel = L\"y\")\n",
    "    plot(p1, p2, layout = 2, size = (width, 7*width/10), title = @sprintf(\"t = %1.4f\",t))\n",
    "end"
   ]
  },
  {
   "cell_type": "code",
   "execution_count": null,
   "metadata": {},
   "outputs": [],
   "source": [
    "T = 20.0\n",
    "L = 30.\n",
    "m = 2^7\n",
    "k = 0.0005\n",
    "k₀ = 4*pi/L*10"
   ]
  },
  {
   "cell_type": "code",
   "execution_count": null,
   "metadata": {},
   "outputs": [],
   "source": [
    "anim = Animation()\n",
    "\n",
    "#η = (x,y) -> 2*exp.(-3x.^2 .- y.^2 .+ 1im*x) + exp.(1im*x*k₀)\n",
    "η = (x,y) -> sech.(y).*exp(3im*y) + 0.001*sin.(x*k₀).*exp(-x.^2)\n",
    "\n",
    "# η₀ = (x,y) -> sech.(x)\n",
    "# U₀ = η₀.(X,X')\n",
    "\n",
    "X = mgrid(m,L)\n",
    "c = η.(X,X') |> mfft2D;\n",
    "U = mifft2D(c)\n",
    "\n",
    "cl = (-1.3,1.5)\n",
    "t = 0.0\n",
    "\n",
    "plot_NLS(U|> real,X,X,t,cl) |> IJulia.display\n",
    "frame(anim)\n",
    "\n",
    "D = 1im*diffvec(L,m,2)\n",
    "F = (x,y) -> (x,y)\n",
    "Dxy = F.(D,transpose(D));\n",
    "\n",
    "d2x = map( x-> x[1], Dxy)\n",
    "d2y = map( x-> x[2], Dxy)\n",
    "d2 = d2x + d2y\n",
    "N = v -> 2im*v.*abs2.(v)\n",
    "\n",
    "F = (v,τ) -> exp.(-d2*τ).*(mfft2D(N(mifft2D(exp.(d2*τ).*v))))\n",
    "\n",
    "n = convert(Int64,ceil(T/k))\n",
    "\n",
    "fr = 100 #frames/unit time\n",
    "tb = convert(Int64,ceil(n/(fr*T)))\n",
    "for i = 2:n+1\n",
    "    c = exp.(d2*k).*rk4(F,k,0.0,c)\n",
    "    t += k\n",
    "    if mod(i-1,tb) ≈ 0.0\n",
    "        U = mifft2D(c)\n",
    "        IJulia.clear_output(true)        \n",
    "        plot_NLS(U |> real,X,X,t,cl) |> IJulia.display\n",
    "        frame(anim)\n",
    "    end\n",
    "end\n",
    "gif(anim,\"cubic_nls.gif\")"
   ]
  },
  {
   "cell_type": "code",
   "execution_count": null,
   "metadata": {},
   "outputs": [],
   "source": [
    "cl"
   ]
  },
  {
   "cell_type": "code",
   "execution_count": null,
   "metadata": {},
   "outputs": [],
   "source": []
  }
 ],
 "metadata": {
  "kernelspec": {
   "display_name": "Julia 1.7.2",
   "language": "julia",
   "name": "julia-1.7"
  },
  "language_info": {
   "file_extension": ".jl",
   "mimetype": "application/julia",
   "name": "julia",
   "version": "1.7.2"
  }
 },
 "nbformat": 4,
 "nbformat_minor": 2
}
