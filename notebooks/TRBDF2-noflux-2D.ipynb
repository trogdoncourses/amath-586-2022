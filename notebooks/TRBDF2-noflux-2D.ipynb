{
 "cells": [
  {
   "cell_type": "markdown",
   "metadata": {},
   "source": [
    "# TRBDF-2 on the heat equation with no-flux boundary conditions in $[0,1] \\times [0,1]$"
   ]
  },
  {
   "cell_type": "code",
   "execution_count": null,
   "metadata": {},
   "outputs": [],
   "source": [
    "using LinearAlgebra, Plots, Printf, LaTeXStrings"
   ]
  },
  {
   "cell_type": "markdown",
   "metadata": {},
   "source": [
    "### Method of lines for 1D\n",
    "\n",
    "We are solving the heat equation\n",
    "\n",
    "$$ \\begin{cases} u_t = \\kappa u_{xx},\\\\\n",
    "u(x,0) = \\eta(x),\\\\\n",
    "u_x(0,t) = 0,\\\\\n",
    "u_x(1,t) = 0. \\end{cases} $$\n",
    "\n",
    "Since we are using no-flux conditions, with the method of lines, the values $U_0(t)$ and $U_{m+1}(t)$ are not directly specified by the boundary conditions.  So, we need to include them in our system of equations.  We write\n",
    "\\begin{align*}\n",
    "U'(t) = \\frac{\\kappa}{h^2} A U(t) + \\kappa \\begin{bmatrix} \\frac{U_{-1}(t)}{h^2} \\\\ \\vdots \\\\ \\frac{U_{m+2}(t)}{h^2} \\end{bmatrix}, \\quad A = \\begin{bmatrix}\n",
    "-2  & 1\\\\\n",
    "1 & -2 & 1 \\\\\n",
    "& 1 & -2 & 1\\\\\n",
    "&& \\ddots & \\ddots & \\ddots \\\\\n",
    "&&& 1 & -2 \\end{bmatrix}.\n",
    "\\end{align*}\n",
    "But this then introduces \"ghost values\" $U_{-1}$ and $U_{m+2}$ which shouldn't be part of the system.  To approximately enforce $u_x(0,t) = 0 = u_x(1,t)$, we set\n",
    "\\begin{align*}\n",
    "\\frac{U_{1} - U_{-1}}{2h} = 0,\\\\\n",
    "\\frac{U_{m+2} - U_{m}}{2h} = 0.\n",
    "\\end{align*}\n",
    "\n",
    "This then implies that we should use \n",
    "\\begin{align*}\n",
    "U'(t) = B U(t), \\quad B = \\frac{\\kappa}{h^2}\\begin{bmatrix}\n",
    "-2  & 2\\\\\n",
    "1 & -2 & 1 \\\\\n",
    "& 1 & -2 & 1\\\\\n",
    "&& \\ddots & \\ddots & \\ddots \\\\\n",
    "&&& 2 & -2 \\end{bmatrix}.\n",
    "\\end{align*}"
   ]
  },
  {
   "cell_type": "code",
   "execution_count": null,
   "metadata": {},
   "outputs": [],
   "source": [
    "h = 0.01\n",
    "κ = 0.3\n",
    "m = convert(Int64,1/h)+1; #increase by 2 over Dirichlet conditions\n",
    "k = 0.001;\n",
    "T = 1;\n",
    "B₀ = Tridiagonal(fill(1.0,m-1),fill(-2.0,m),fill(1.0,m-1))\n",
    "B₀[1,2] = 2\n",
    "B₀[end,end-1] = 2;\n",
    "B = κ/(h^2)*B₀;"
   ]
  },
  {
   "cell_type": "code",
   "execution_count": null,
   "metadata": {},
   "outputs": [],
   "source": [
    "eigvals(B₀ |> Array)"
   ]
  },
  {
   "cell_type": "markdown",
   "metadata": {},
   "source": [
    "### TRBDF-2 in one dimension\n",
    "\n",
    "The TRBDF-2 method is a diagonally-implicit second-order accurate Runge--Kutta method.  It is given by\n",
    "\n",
    "\\begin{align*}\n",
    "U^* = U^n + \\frac k 4 \\left( f(U^n) + f(U^*) \\right),\\\\\n",
    "U^{n+1} = \\frac 1 3 \\left( 4 U^* - U^n + k f(U^{n+1}) \\right).\n",
    "\\end{align*}\n",
    "\n",
    "As we saw on homework 3, it is L-stable and therefore a good method for diffusion.  \n",
    "\n",
    "If $f(U) = BU$ is linear then this better written as\n",
    "\n",
    "\\begin{align*}\n",
    "\\left( I - \\frac k 4 B \\right)U^*  =  \\left( I + \\frac k 4 B \\right) U^n,\\\\\n",
    "\\left( I - \\frac k 3 B \\right) U^{n+1} = \\frac 1 3 \\left( 4 U^* - U^n \\right).\n",
    "\\end{align*}\n",
    "\n",
    "And so, we first solve the first equation for $U^*$ and then solve the second equaiton for $U^{n+1}$."
   ]
  },
  {
   "cell_type": "code",
   "execution_count": null,
   "metadata": {},
   "outputs": [],
   "source": [
    "B1 = I - (k/4)*B\n",
    "B2 = I + (k/4)*B\n",
    "B3 = I - (k/3)*B;\n",
    "function TRBDF2_heat(U)\n",
    "    Ustar = B1\\(B2*U)\n",
    "    return B3\\((4/3)*Ustar-(1/3)*U)\n",
    "end"
   ]
  },
  {
   "cell_type": "code",
   "execution_count": null,
   "metadata": {},
   "outputs": [],
   "source": [
    "η = x -> exp.(-20*(x .-1/2).^2)"
   ]
  },
  {
   "cell_type": "code",
   "execution_count": null,
   "metadata": {},
   "outputs": [],
   "source": [
    "plot()\n",
    "anim = Animation()\n",
    "n = convert(Int64,ceil(T/k))\n",
    "x = 0:h:1\n",
    "U = η(x)\n",
    "t = 0.0\n",
    "plot(x, U, xaxis = [0,1], yaxis = [-1,2],lw=3,label = @sprintf(\"u(x,t), t = %1.2f\",t))\n",
    "plot!([0,1],[U[1],U[end]], label = \"BCs\", seriestype = :scatter) |> IJulia.display\n",
    "frame(anim)\n",
    "\n",
    "fr = 100 #frames/unit time\n",
    "tb = convert(Int64,ceil(n/(fr*T)))\n",
    "for i = 2:n+1\n",
    "    t += k\n",
    "    U = TRBDF2_heat(U)\n",
    "    if mod(i-1,tb) ≈ 0.0\n",
    "        IJulia.clear_output(true)\n",
    "        plot(x, U, xaxis = [0,1], yaxis = [-1,2],lw=3,label = @sprintf(\"u(x,t), t = %1.2f\",t))\n",
    "        plot!([0,1],[U[1],U[end]], label = \"BCs\", seriestype = :scatter) |> IJulia.display\n",
    "        frame(anim)\n",
    "    end\n",
    "end\n",
    "gif(anim,\"heat_TRBDF2_noflux.gif\")"
   ]
  },
  {
   "cell_type": "markdown",
   "metadata": {},
   "source": [
    "### TRBDF-2 in two spatial dimensions\n",
    "\n",
    "$$ \\begin{cases} u_t = \\kappa u_{xx} + \\kappa u_{yy},\\\\\n",
    "u(x,y,0) = \\eta(x,y),\\\\\n",
    "u_x(0,y,t) = 0,\\\\\n",
    "u_x(1,y,t) = 0,\\\\\n",
    "u_y(x,0,t) = 0,\\\\\n",
    "u_y(x,1,t) = 0.\\end{cases} $$"
   ]
  },
  {
   "cell_type": "code",
   "execution_count": null,
   "metadata": {},
   "outputs": [],
   "source": [
    "η = (x,y) -> exp.(-20*(x .-1/2).^2 -20*(y .-1/2).^2)"
   ]
  },
  {
   "cell_type": "code",
   "execution_count": null,
   "metadata": {},
   "outputs": [],
   "source": [
    "x = 0:h:1 |> Array\n",
    "y = x\n",
    "X = repeat(reshape(x, 1, :), length(y), 1)\n",
    "Y = repeat(reverse(y), 1, length(x));"
   ]
  },
  {
   "cell_type": "code",
   "execution_count": null,
   "metadata": {},
   "outputs": [],
   "source": [
    "function plot_heat(U,x,y,t,cl,width=800)\n",
    "    p1 = surface(x, y, U[end:-1:1,:], zaxis = [cl[1],cl[2]], clims= cl, aspectratio = .6, xlabel = L\"x\", ylabel = L\"y\", zlabel = L\"u(x,y,t)\")\n",
    "    p2 = contour(x, y, U[end:-1:1,:], clims=cl, xaxis = [0,1], yaxis = [0,1], fill = true, aspectratio = 1, xlabel = L\"x\", ylabel = L\"y\")\n",
    "    plot(p1, p2, layout = 2, size = (width, 7*width/10), title = @sprintf(\"t = %1.4f\",t))\n",
    "end"
   ]
  },
  {
   "cell_type": "markdown",
   "metadata": {},
   "source": [
    "### Use the locally one-dimensional method (LOD)"
   ]
  },
  {
   "cell_type": "code",
   "execution_count": null,
   "metadata": {},
   "outputs": [],
   "source": [
    "plot()\n",
    "anim = Animation()\n",
    "n = convert(Int64,ceil(T/k))\n",
    "\n",
    "U = η(X,Y)\n",
    "t = 0.0\n",
    "plot_heat(U,x,y,t,(-0.5,1.5)) |> IJulia.display\n",
    "frame(anim)\n",
    "\n",
    "fr = 100 #frames/unit time\n",
    "tb = convert(Int64,ceil(n/(fr*T)))\n",
    "for i = 2:n+1\n",
    "    t += k\n",
    "    U = TRBDF2_heat(U) # diffuse in y\n",
    "    U = TRBDF2_heat(U')' |> Array # diffuse in x\n",
    "    # Since the matrix $B$ is the same if we reverse the order\n",
    "    # of the grid points, we don't have to worry about what the\n",
    "    # transpose does to the order.\n",
    "    if mod(i-1,tb) ≈ 0.0\n",
    "        IJulia.clear_output(true)\n",
    "        plot_heat(U,x,y,t,(-0.5,1.5)) |> IJulia.display\n",
    "        frame(anim)\n",
    "    end\n",
    "end\n",
    "gif(anim,\"heat_TRBDF2_noflux_2D.gif\")"
   ]
  },
  {
   "cell_type": "markdown",
   "metadata": {},
   "source": [
    "### TRBDF-2 in two spatial dimensions with forcing\n",
    "\n",
    "$$ \\begin{cases} u_t(x,y,t) = \\kappa u_{xx}(x,y,t) + \\kappa u_{yy}(x,y,t) + F(x,y),\\\\\n",
    "u(x,y,0) = \\eta(x,y),\\\\\n",
    "u_x(0,y,t) = 0,\\\\\n",
    "u_x(1,y,t) = 0,\\\\\n",
    "u_y(x,0,t) = 0,\\\\\n",
    "u_y(x,1,t) = 0.\\end{cases} $$\n",
    "\n",
    "To see how to solve this, review the TRBDF-2 scheme\n",
    "\n",
    "\\begin{align*}\n",
    "U^* = U^n + \\frac k 4 \\left( f(U^n) + f(U^*) \\right),\\\\\n",
    "U^{n+1} = \\frac 1 3 \\left( 4 U^* - U^n + k f(U^{n+1}) \\right).\n",
    "\\end{align*}\n",
    "\n",
    "The MOL discretization in one dimension is $U'(t) = B U(t) + F_h$ where $F_h$ is a fixed vector."
   ]
  },
  {
   "cell_type": "markdown",
   "metadata": {},
   "source": [
    "So,\n",
    "\n",
    "\\begin{align*}\n",
    "\\left( I - \\frac k 4 B \\right)U^*  =  \\left( I + \\frac k 4 B \\right) U^n + \\frac k 2 F_h,\\\\\n",
    "\\left( I - \\frac k 3 B \\right) U^{n+1} = \\frac 1 3 \\left( 4 U^* - U^n \\right) + \\frac k 3 F_h.\n",
    "\\end{align*}"
   ]
  },
  {
   "cell_type": "markdown",
   "metadata": {},
   "source": [
    "But when we use a splitting method, we have a choice.  Because\n",
    "\n",
    "\\begin{align*}\n",
    "u_t = \\kappa u_{xx} + \\kappa u_{yy} + F &= \\mathcal A_1(u) + \\mathcal A_2(u),\\\\\n",
    "\\mathcal A_1(u) &= \\kappa u_{xx} + \\gamma F,\\\\\n",
    "\\mathcal A_2(u) &= \\kappa u_{yy} + (1-\\gamma) F.\n",
    "\\end{align*}\n",
    "\n",
    "It is reasonable to use $\\gamma = 1/2$ so that the forcing is treated equally at each step.  But the method we use is still just first order accurate in time regardless of how we choose $\\gamma$.  We would need to use Strang splitting (11.24) to get to second order.  To see that this is the case, consider the model problem\n",
    "\n",
    "\\begin{align*}\n",
    "U' = AU + BU + F.\n",
    "\\end{align*}\n",
    "The true solution at time $t = k$ is\n",
    "\\begin{align*}\n",
    "U(k) = e^{(A + B)k} \\eta + \\int_0^k e^{(A + B)(k - \\tau)} F d\\tau = e^{(A+B) k} \\left( \\eta + \\int_0^k e^{-(A+B)\\tau} F d\\tau \\right).\n",
    "\\end{align*}\n",
    "Let's suppose that $e^{(A + B)k} \\approx e^{Bk}e^{Ak}$ to a sufficiently high order.  The splitting scheme using $\\mathcal N_{\\mathcal A_1}$ first, followed by $\\mathcal N_{\\mathcal A_2}$ results in\n",
    "\\begin{align*}\n",
    "U^* &= e^{Ak} \\eta + \\gamma \\int_0^k e^{A(k - \\tau)} F d\\tau,\\\\\n",
    "U^1 &= e^{Bk}e^{Ak} \\eta + \\gamma \\int_0^k e^{Bk} e^{A(k - \\tau)} F d\\tau + (1-\\gamma) \\int_0^k  e^{B(k - \\tau)} F d\\tau\\\\\n",
    "& = e^{Bk}e^{Ak} \\left( \\eta + \\gamma \\int_0^k e^{- A \\tau} F d\\tau + (1-\\gamma) \\int_0^k e^{- A k} e^{- B \\tau} F d\\tau\\right).\n",
    "\\end{align*}"
   ]
  },
  {
   "cell_type": "markdown",
   "metadata": {},
   "source": [
    "It becomes clear that we need to consider the expansion of\n",
    "\n",
    "\\begin{align*}\n",
    "\\mathcal E_k = \\gamma \\int_0^k e^{- A \\tau} d\\tau + (1-\\gamma) \\int_0^k e^{- A k} e^{- B \\tau} d\\tau\n",
    "\\end{align*}\n",
    "\n",
    "and compare it to the expansion of\n",
    "\\begin{align*}\n",
    "\\int_0^k e^{- (A+B) \\tau} d\\tau\n",
    "\\end{align*}\n",
    "\n",
    "\n",
    "Since the integral itself enforces that this quantity is $O(k)$, we keep track of the first two terms in the expansions:\n",
    "\n",
    "\\begin{align*}\n",
    "\\gamma \\int_0^k e^{- A \\tau} d\\tau &= \\gamma k I - \\gamma \\frac{k^2}{2} A + O(k^3),\\\\\n",
    "(1-\\gamma)\\int_0^k e^{- A k} e^{- B \\tau} d\\tau &= (1-\\gamma) k I - (1-\\gamma)k^2A - (1-\\gamma)\\frac{k^2}{2} B + O(k^3),\\\\\n",
    "\\int_0^k e^{- (A+B) \\tau} d\\tau &= k I - (A+B) \\frac{k^2}{2} + O(k^3).\n",
    "\\end{align*}"
   ]
  },
  {
   "cell_type": "markdown",
   "metadata": {},
   "source": [
    "Summing the first two terms we find\n",
    "\\begin{align*}\n",
    "\\mathcal E_k = k I - (1- \\gamma/2) k^2 A - (1-\\gamma)\\frac{k^2}{2} B + O(k^3)\n",
    "\\end{align*}\n",
    "The second-order error term is:\n",
    "\\begin{align*}\n",
    "- (1- \\gamma/2) A - (1-\\gamma)\\frac{1}{2} B + \\frac 1 2 (A + B) = \\left ( \\frac {\\gamma-1} 2   \\right) A + \\left(  \\gamma  - \\frac 1 2\\right) B\n",
    "\\end{align*}\n",
    "If if $\\gamma$ is chosen to minimize $ \\left ( \\frac {\\gamma-1} 2   \\right)^2 + \\left(  \\gamma  - \\frac 1 2\\right)^2$ one finds $\\gamma = 3/5$.\n",
    "\n",
    "Alternatively, one might want to make sure $A$ and $B$ contribute equally, so choose $\\gamma  = 0$."
   ]
  },
  {
   "cell_type": "code",
   "execution_count": null,
   "metadata": {},
   "outputs": [],
   "source": [
    "η = (x,y) -> exp.(-20*(x .-1/2).^2 -20*(y .-1/2).^2)\n",
    "F = (x,y) -> 16*sin.(4*pi*x).*sin.(4*pi*y)"
   ]
  },
  {
   "cell_type": "code",
   "execution_count": null,
   "metadata": {},
   "outputs": [],
   "source": [
    "function TRBDF2_heat(U,F1,F2)\n",
    "    Ustar = B1\\(B2*U + F1)\n",
    "    return B3\\((4/3)*Ustar-(1/3)*U + F2)\n",
    "end"
   ]
  },
  {
   "cell_type": "code",
   "execution_count": null,
   "metadata": {},
   "outputs": [],
   "source": [
    "plot()\n",
    "anim = Animation()\n",
    "T = 2\n",
    "n = convert(Int64,ceil(T/k))\n",
    "\n",
    "U = η(X,Y)\n",
    "Fh = F(X,Y)\n",
    "F1 = (k/4)*Fh # γ = 1/2\n",
    "F2 = (k/6)*Fh\n",
    "t = 0.0\n",
    "plot_heat(U,x,y,t,(-0.5,1.5)) |> IJulia.display\n",
    "frame(anim)\n",
    "\n",
    "fr = 100 #frames/unit time\n",
    "tb = convert(Int64,ceil(n/(fr*T)))\n",
    "for i = 2:n+1\n",
    "    t += k\n",
    "    U = TRBDF2_heat(U,F1,F2)\n",
    "    U = TRBDF2_heat(U',F1',F2')' |> Array # Could use Strang splitting for second order in time\n",
    "    if mod(i-1,tb) ≈ 0.0\n",
    "        IJulia.clear_output(true)\n",
    "        plot_heat(U,x,y,t,(-0.5,1.5)) |> IJulia.display\n",
    "        frame(anim)\n",
    "    end\n",
    "end\n",
    "gif(anim,\"heat_TRBDF2_noflux_forcing_2D.gif\")"
   ]
  },
  {
   "cell_type": "code",
   "execution_count": null,
   "metadata": {},
   "outputs": [],
   "source": []
  }
 ],
 "metadata": {
  "kernelspec": {
   "display_name": "Julia 1.6.3",
   "language": "julia",
   "name": "julia-1.6"
  },
  "language_info": {
   "file_extension": ".jl",
   "mimetype": "application/julia",
   "name": "julia",
   "version": "1.6.3"
  }
 },
 "nbformat": 4,
 "nbformat_minor": 2
}
