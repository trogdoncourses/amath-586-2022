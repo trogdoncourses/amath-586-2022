{
 "cells": [
  {
   "cell_type": "markdown",
   "metadata": {},
   "source": [
    "# Advection equation demo"
   ]
  },
  {
   "cell_type": "code",
   "execution_count": null,
   "metadata": {},
   "outputs": [],
   "source": [
    "using LinearAlgebra, Plots, Printf, SparseArrays"
   ]
  },
  {
   "cell_type": "markdown",
   "metadata": {},
   "source": [
    "This implementation is again in Julia.  Since tridiagonal matrices are so prevalent and important, Julia has a special data type for them.  If you are using python or Matlab you want to use the `spdiags` command. For example, in python:\n",
    "\n",
    "```python\n",
    "import numpy as np\n",
    "from scipy.sparse import spdiags\n",
    "\n",
    "m = 4\n",
    "data = np.array([-np.ones(m), np.zeros(m) , np.ones(m)]);\n",
    "diags = np.array([-1, 0, 1])\n",
    "A = spdiags(data, diags, m, m)\n",
    "\n",
    "A.toarray()  # just to see what it looks like\n",
    "```"
   ]
  },
  {
   "cell_type": "code",
   "execution_count": null,
   "metadata": {},
   "outputs": [],
   "source": [
    "h = 0.01\n",
    "m = convert(Int64,1/h)-1;\n",
    "k = 0.1\n",
    "T = 10.\n",
    "S = Tridiagonal(fill(-1.0,m),fill(0.0,m+1),fill(1.0,m)) #increase dim by 1\n",
    "a = 1.0;"
   ]
  },
  {
   "cell_type": "code",
   "execution_count": null,
   "metadata": {},
   "outputs": [],
   "source": [
    "S |> Array;"
   ]
  },
  {
   "cell_type": "markdown",
   "metadata": {},
   "source": [
    "## Periodic problem with forward Euler\n",
    "\n",
    "For $a > 0$\n",
    "\n",
    "$$ \\begin{cases} u_t + a u_{x} = 0,\\\\\n",
    "u(x,0) = \\eta(x),\\\\\n",
    "u(0,t) = u(1,t). \\end{cases} $$"
   ]
  },
  {
   "cell_type": "code",
   "execution_count": null,
   "metadata": {},
   "outputs": [],
   "source": [
    "# Initial condition\n",
    "η = x -> exp.(-20*(x .-1/2).^2)\n",
    "# Initial condition chosen so that u(x,t) = sin(2*pi*(x - t)), if a = 1\n",
    "# η = x -> sin.(2*pi*x)\n",
    "# u = (x,t) -> sin.(2*pi*(x.-t))"
   ]
  },
  {
   "cell_type": "markdown",
   "metadata": {},
   "source": [
    "Build MOL matrix"
   ]
  },
  {
   "cell_type": "code",
   "execution_count": null,
   "metadata": {},
   "outputs": [],
   "source": [
    "S = sparse(S) # Need to convert S to a new data type to allow new entries\n",
    "S[1,end] = -1\n",
    "S[end,1]  = 1\n",
    "S |> Array"
   ]
  },
  {
   "cell_type": "code",
   "execution_count": null,
   "metadata": {},
   "outputs": [],
   "source": [
    "k = h^2\n",
    "B = I - (a*k/(2h)*S)"
   ]
  },
  {
   "cell_type": "code",
   "execution_count": null,
   "metadata": {},
   "outputs": [],
   "source": [
    "n = convert(Int64,ceil(T/k))\n",
    "x = h:h:1 # include right end point\n",
    "U = η(x)\n",
    "t = 0.0\n",
    "plot(x, U, xaxis = [0,1], yaxis = [-1,2],lw=3,label = @sprintf(\"u(x,t), t = %1.2f\",t))\n",
    "# If solution is known\n",
    "# plot!(x, u(x,t), xaxis = [0,1], yaxis = [-1,2],lw=1,label = @sprintf(\"u(x,t), t = %1.2f\",t))\n",
    "plot!([0,1],[U[end],U[end]], label = \"BCs\", seriestype = :scatter)\n",
    "\n",
    "fr = 100 #frames/unit time\n",
    "tb = convert(Int64,ceil(n/(fr*T)))\n",
    "for i = 2:n+1\n",
    "    t += k\n",
    "    U = B*U\n",
    "    if mod(i-1,tb) ≈ 0.0\n",
    "        IJulia.clear_output(true)\n",
    "        plot(x, U, xaxis = [0,1], yaxis = [-1,2],lw=3,label = @sprintf(\"u(x,t), t = %1.2f\",t))\n",
    "        # If solution is known\n",
    "        # plot!(x, u(x,t), xaxis = [0,1], yaxis = [-1,2],lw=1,label = @sprintf(\"u(x,t), t = %1.2f\",t))\n",
    "        plot!([0,1],[U[end],U[end]], label = \"BCs\", seriestype = :scatter) |> IJulia.display\n",
    "    end\n",
    "end"
   ]
  },
  {
   "cell_type": "markdown",
   "metadata": {},
   "source": [
    "### Create a gif"
   ]
  },
  {
   "cell_type": "code",
   "execution_count": null,
   "metadata": {},
   "outputs": [],
   "source": [
    "plot()\n",
    "anim = Animation()\n",
    "n = convert(Int64,ceil(T/k))\n",
    "x = h:h:1 # include right end point\n",
    "U = η(x)\n",
    "t = 0.0\n",
    "plot(x, U, xaxis = [0,1], yaxis = [-1,2],lw=3,label = @sprintf(\"u(x,t), t = %1.2f\",t))\n",
    "plot!([0,1],[U[end],U[end]], label = \"BCs\", seriestype = :scatter)\n",
    "frame(anim)\n",
    "\n",
    "fr = 100 #frames/unit time\n",
    "tb = convert(Int64,ceil(n/(fr*T)))\n",
    "for i = 2:n+1\n",
    "    t += k\n",
    "    U = B*U\n",
    "    if mod(i-1,tb) ≈ 0.0\n",
    "        plot(x, U, xaxis = [0,1], yaxis = [-1,2],lw=3,label = @sprintf(\"u(x,t), t = %1.2f\",t))\n",
    "        plot!([0,1],[U[end],U[end]], label = \"BCs\", seriestype = :scatter)\n",
    "        frame(anim)\n",
    "    end\n",
    "end\n",
    "gif(anim,\"advection_periodic.gif\")"
   ]
  },
  {
   "cell_type": "markdown",
   "metadata": {},
   "source": [
    "## Periodic problem with Lax-Friedrichs\n",
    "\n",
    "$$ \\begin{cases} u_t + a u_{x} = 0,\\\\\n",
    "u(x,0) = \\eta(x),\\\\\n",
    "u(0,t) = u(1,t). \\end{cases} $$"
   ]
  },
  {
   "cell_type": "code",
   "execution_count": null,
   "metadata": {},
   "outputs": [],
   "source": [
    "# Initial condition\n",
    "η = x -> exp.(-20*(x .-1/2).^2)\n",
    "# Initial condition chosen so that u(x,t) = sin(2*pi*(x - t)), if a = 1\n",
    "#η = x -> sin.(2*pi*x)\n",
    "#u = (x,t) -> sin.(2*pi*(x.-t))"
   ]
  },
  {
   "cell_type": "code",
   "execution_count": null,
   "metadata": {},
   "outputs": [],
   "source": [
    "h = 0.01\n",
    "m = convert(Int64,1/h)-1;\n",
    "T = 10.\n",
    "S = Tridiagonal(fill(-1.0,m),fill(0.0,m+1),fill(1.0,m)) #increase dim by 1\n",
    "a = 1.0;"
   ]
  },
  {
   "cell_type": "code",
   "execution_count": null,
   "metadata": {},
   "outputs": [],
   "source": [
    "S = sparse(S) # Need to convert A₀ to a new data type to allow new entries\n",
    "S[1,end] = -1\n",
    "S[end,1]  = 1\n",
    "C₀ = sparse(Tridiagonal(fill(0.5,m),fill(0.0,m+1),fill(0.5,m)))\n",
    "C₀[1,end] = .5\n",
    "C₀[end,1] = .5\n",
    "k = h # need this to avoid too much numerical dissipation\n",
    "B = sparse(C₀ - (a*k/(2h))*S);"
   ]
  },
  {
   "cell_type": "code",
   "execution_count": null,
   "metadata": {},
   "outputs": [],
   "source": [
    "n = convert(Int64,ceil(T/k))\n",
    "x = h:h:1 # include right end point\n",
    "U = η(x)\n",
    "t = 0.0\n",
    "plot(x, U, xaxis = [0,1], yaxis = [-1,2],lw=3,label = @sprintf(\"u(x,t), t = %1.2f\",t))\n",
    "# If solution is known\n",
    "# plot!(x, u(x,t), xaxis = [0,1], yaxis = [-1,2],lw=1,label = @sprintf(\"u(x,t), t = %1.2f\",t))\n",
    "plot!([0,1],[U[end],U[end]], label = \"BCs\", seriestype = :scatter)\n",
    "\n",
    "fr = 100 #frames/unit time\n",
    "tb = convert(Int64,ceil(n/(fr*T)))\n",
    "for i = 2:n+1\n",
    "    t += k\n",
    "    U = B*U\n",
    "    if mod(i-1,tb) ≈ 0.0\n",
    "        IJulia.clear_output(true)\n",
    "        plot(x, U, xaxis = [0,1], yaxis = [0,1],lw=3,label = @sprintf(\"u(x,t), t = %1.2f\",t))\n",
    "        # If solution is known\n",
    "        # plot!(x, u(x,t), xaxis = [0,1], yaxis = [-1,2],lw=1,label = @sprintf(\"u(x,t), t = %1.2f\",t))\n",
    "        plot!([0,1],[U[end],U[end]], label = \"BCs\", seriestype = :scatter) |> IJulia.display\n",
    "    end\n",
    "end"
   ]
  },
  {
   "cell_type": "markdown",
   "metadata": {},
   "source": [
    "### Create a gif"
   ]
  },
  {
   "cell_type": "code",
   "execution_count": null,
   "metadata": {},
   "outputs": [],
   "source": [
    "plot()\n",
    "anim = Animation()\n",
    "n = convert(Int64,ceil(T/k))\n",
    "x = h:h:1 # include right end point\n",
    "U = η(x)\n",
    "t = 0.0\n",
    "plot(x, U, xaxis = [0,1], yaxis = [-1,2],lw=3,label = @sprintf(\"u(x,t), t = %1.2f\",t))\n",
    "plot!([0,1],[U[end],U[end]], label = \"BCs\", seriestype = :scatter)\n",
    "frame(anim)\n",
    "\n",
    "fr = 100 #frames/unit time\n",
    "tb = convert(Int64,ceil(n/(fr*T)))\n",
    "for i = 2:n+1\n",
    "    t += k\n",
    "    U = B*U\n",
    "    if mod(i-1,tb) ≈ 0.0\n",
    "        plot(x, U, xaxis = [0,1], yaxis = [-1,2],lw=3,label = @sprintf(\"u(x,t), t = %1.2f\",t))\n",
    "        plot!([0,1],[U[end],U[end]], label = \"BCs\", seriestype = :scatter)\n",
    "        frame(anim)\n",
    "    end\n",
    "end\n",
    "gif(anim,\"advection_periodic_LF.gif\")"
   ]
  },
  {
   "cell_type": "markdown",
   "metadata": {
    "slideshow": {
     "slide_type": "subslide"
    }
   },
   "source": [
    "## Dirichlet BC with Lax-Friedrichs\n",
    "\n",
    "$$ \\begin{cases} u_t + a u_{x} = 0,\\\\\n",
    "u(x,0) = \\eta(x),\\\\\n",
    "u(0,t) = g_0(t). \\end{cases} $$\n",
    "\n",
    "Consider the method of lines discretization:\n",
    "\n",
    "$$ U'(t) = - \\frac{a}{2h} A U(t) +  \\frac{a}{2h} g(t)$$\n",
    "\n",
    "where \n",
    "\n",
    "$$A = \\begin{bmatrix} 0 & 1 \\\\\n",
    "-1 & 0 & 1 \\\\\n",
    "& -1 & 0 & 1 \\\\\n",
    " & & \\ddots & & \\ddots\\\\\n",
    " &&& -1 & 0 & 1 \\\\\n",
    " &&& 1 & -4 & 3 \\end{bmatrix}, \\quad g(t) = \\begin{bmatrix} g_0(t) \\\\ 0 \\\\ \\vdots \\\\ 0 \\end{bmatrix}.$$\n",
    " \n",
    "Forward Euler produces:\n",
    "\n",
    "$$U^{n+1} = U^n - \\frac{ak}{2h} A U^n + \\frac{ak}{2h} g(t). $$\n",
    "\n",
    "We introduce a Lax-Friedrichs stabilization via a matrix $C$\n",
    "\n",
    "$$ C =\\begin{bmatrix} 0 & 1/2 \\\\\n",
    "1/2 & 0 & 1/2 \\\\\n",
    "& 1/2 & 0 & 1/2 \\\\\n",
    " & & \\ddots & & \\ddots\\\\\n",
    " &&& 1/2 & 0 & 1/2 \\\\\n",
    " &&&  & 0 & 1 \\end{bmatrix}.$$\n",
    " \n",
    "Using the approximation $U^n \\approx C U^n + g(t)/2$ we find the method\n",
    " \n",
    " $$U^{n+1} = C U^n - \\frac{ak}{2h} A U^n + \\left( \\frac 1 2 + \\frac{ak}{2h}\\right) g(t). $$"
   ]
  },
  {
   "cell_type": "code",
   "execution_count": null,
   "metadata": {},
   "outputs": [],
   "source": [
    "# Initial and boundary conditions\n",
    "η = x -> exp.(-20*(x .-1/2).^2)\n",
    "g0 = t -> sin(4*t)+1."
   ]
  },
  {
   "cell_type": "code",
   "execution_count": null,
   "metadata": {},
   "outputs": [],
   "source": [
    "η(0.0) |> display\n",
    "g0(0)"
   ]
  },
  {
   "cell_type": "code",
   "execution_count": null,
   "metadata": {},
   "outputs": [],
   "source": [
    "h = 0.01\n",
    "a = 1.0;\n",
    "m = convert(Int64,1/h)-1;\n",
    "k = h/(a)\n",
    "T = 10.\n",
    "A = Tridiagonal(fill(-1.0,m),fill(0.0,m+1),fill(1.0,m)); #increase dim by 1\n",
    "A = sparse(A)\n",
    "A[end,end-2:end] = [1,-4,3];"
   ]
  },
  {
   "cell_type": "code",
   "execution_count": null,
   "metadata": {},
   "outputs": [],
   "source": [
    "C = Tridiagonal(fill(0.5,m),fill(0.0,m+1),fill(0.5,m))\n",
    "C = sparse(C)\n",
    "C[end,:] *= 0.0\n",
    "C[end,end] = 1.0\n",
    "B = sparse(C - (a*k/(2h))*A);"
   ]
  },
  {
   "cell_type": "code",
   "execution_count": null,
   "metadata": {},
   "outputs": [],
   "source": [
    "n = convert(Int64,ceil(T/k))\n",
    "x = h:h:1 # include right end point\n",
    "U = η(x)\n",
    "t = 0.0\n",
    "plot(x, U, xaxis = [0,1], yaxis = [-1,2],lw=3,label = @sprintf(\"u(x,t), t = %1.2f\",t))\n",
    "plot!([0,1],[g0(t),U[end]], label = \"BCs\", seriestype = :scatter)\n",
    "\n",
    "fr = 100 #frames/unit time\n",
    "tb = convert(Int64,ceil(n/(fr*T)))\n",
    "for i = 2:n+1\n",
    "    t += k\n",
    "    U = B*U\n",
    "    U[1] += (1/2 + a*k/(2h))*g0(t-k)\n",
    "    if mod(i-1,tb) ≈ 0.0\n",
    "        IJulia.clear_output(true)\n",
    "        plot(x, U, xaxis = [0,1], yaxis = [-1,2],lw=3,label = @sprintf(\"u(x,t), t = %1.2f\",t))\n",
    "        plot!([0,1],[g0(t),U[end]], label = \"BCs\", seriestype = :scatter) |> IJulia.display\n",
    "    end\n",
    "end"
   ]
  },
  {
   "cell_type": "code",
   "execution_count": null,
   "metadata": {},
   "outputs": [],
   "source": [
    "plot()\n",
    "anim = Animation()\n",
    "n = convert(Int64,ceil(T/k))\n",
    "x = h:h:1 # include right end point\n",
    "U = η(x)\n",
    "t = 0.0\n",
    "plot(x, U, xaxis = [0,1], yaxis = [-1,2],lw=3,label = @sprintf(\"u(x,t), t = %1.2f\",t))\n",
    "plot!([0,1],[g0(t),U[end]], label = \"BCs\", seriestype = :scatter)\n",
    "frame(anim)\n",
    "\n",
    "fr = 100 #frames/unit time\n",
    "tb = convert(Int64,ceil(n/(fr*T)))\n",
    "for i = 2:n+1\n",
    "    t += k\n",
    "    U = B*U\n",
    "    U[1] += (1 + a*k/h)*g0(t)/2\n",
    "    if mod(i-1,tb) ≈ 0.0\n",
    "        plot(x, U, xaxis = [0,1], yaxis = [-1,2],lw=3,label = @sprintf(\"u(x,t), t = %1.2f\",t))\n",
    "        plot!([0,1],[g0(t),U[end]], label = \"BCs\", seriestype = :scatter)\n",
    "        frame(anim)\n",
    "    end\n",
    "end\n",
    "gif(anim,\"advection_LF.gif\")"
   ]
  },
  {
   "cell_type": "markdown",
   "metadata": {
    "slideshow": {
     "slide_type": "subslide"
    }
   },
   "source": [
    "## Dirichlet BC with Lax-Wendroff\n",
    "\n",
    "$$ \\begin{cases} u_t + a u_{x} = 0,\\\\\n",
    "u(x,0) = \\eta(x),\\\\\n",
    "u(0,t) = g_0(t). \\end{cases} $$"
   ]
  },
  {
   "cell_type": "code",
   "execution_count": null,
   "metadata": {},
   "outputs": [],
   "source": [
    "# Initial and boundary conditions\n",
    "η = x -> exp.(-40*(x .-1/2).^2)\n",
    "g0 = t -> sin(4*t) + 1\n",
    "# Initial condition chosen so that u(x,t) = sin(2*pi*(x - t)), if a = 1\n",
    "# η = x -> sin.(2*pi*x)\n",
    "# g0(t) = sin.(-2*pi*t)\n",
    "# u = (x,t) -> sin.(2*pi*(x.-t))"
   ]
  },
  {
   "cell_type": "code",
   "execution_count": null,
   "metadata": {},
   "outputs": [],
   "source": [
    "h = 0.01\n",
    "a = 1.0;\n",
    "m = convert(Int64,1/h)-1;\n",
    "k = h/(a)\n",
    "T = 10.\n",
    "A = Tridiagonal(fill(-1.0,m),fill(0.0,m+1),fill(1.0,m)) |> sparse; \n",
    "D = Tridiagonal(fill(1.0,m),fill(-2.0,m+1),fill(1.0,m)) |> sparse;\n",
    "vec = [1,-4,3]\n",
    "A[end,end-2:end] = vec; # same as Lax-Friedrichs\n",
    "# Construct a backward second-order approximation of the second derivative\n",
    "D[end,:] *= 0.0\n",
    "D[end,end-3:end-1] += (vec[1]/2)*[-.5,0,.5]\n",
    "D[end,end-2:end] += (vec[2]/2)*[-.5,0,.5]\n",
    "D[end,end-2:end] += vec[3]*vec/4;"
   ]
  },
  {
   "cell_type": "code",
   "execution_count": null,
   "metadata": {},
   "outputs": [],
   "source": [
    "n = convert(Int64,ceil(T/k))\n",
    "x = h:h:1 # include right end point\n",
    "U = η(x)\n",
    "t = 0.0\n",
    "plot(x, U, xaxis = [0,1], yaxis = [-1,2],lw=3,label = @sprintf(\"u(x,t), t = %1.2f\",t))\n",
    "# If solution is known\n",
    "# plot!(x, u(x,t), xaxis = [0,1], yaxis = [-1,2],lw=1,label = @sprintf(\"u(x,t), t = %1.2f\",t))\n",
    "plot!([0,1],[g0(t),U[end]], label = \"BCs\", seriestype = :scatter)\n",
    "\n",
    "fr = 1000 #frames/unit time\n",
    "tb = convert(Int64,ceil(n/(fr*T)))\n",
    "for i = 2:n+1\n",
    "    t += k\n",
    "    U = U - (a*k/(2h))*(A*U) + (a^2*k^2/(2h^2))*(D*U)\n",
    "    U[1] += (a*k/(2h) + (a^2*k^2/(2h^2)))*g0(t-k)\n",
    "    if mod(i-1,tb) ≈ 0.0\n",
    "        IJulia.clear_output(true)\n",
    "        plot(x, U, xaxis = [0,1], yaxis = [-1,2],lw=3,label = @sprintf(\"u(x,t), t = %1.2f\",t))\n",
    "        # If solution is known\n",
    "        # plot!(x, u(x,t), xaxis = [0,1], yaxis = [-1,2],lw=1,label = @sprintf(\"u(x,t), t = %1.2f\",t))\n",
    "        plot!([0,1],[g0(t),U[end]], label = \"BCs\", seriestype = :scatter) |> IJulia.display\n",
    "    end\n",
    "end"
   ]
  },
  {
   "cell_type": "markdown",
   "metadata": {},
   "source": [
    "## Convergence study with Lax-Wendroff"
   ]
  },
  {
   "cell_type": "code",
   "execution_count": null,
   "metadata": {},
   "outputs": [],
   "source": [
    "# Initial and boundary conditions chosen so that u(x,t) is the solution\n",
    "\n",
    "F = x -> (exp.(-(x .- 1).^2) .+ 1).*sin.(2*pi*x)\n",
    "a = 1.0\n",
    "η = x -> F(x)\n",
    "g0 = t -> F(-a*t)\n",
    "u = (x,t) -> F(x.-a*t)\n"
   ]
  },
  {
   "cell_type": "code",
   "execution_count": null,
   "metadata": {},
   "outputs": [],
   "source": [
    "h = 0.2\n",
    "p = 7\n",
    "\n",
    "out = fill(0.0,p)\n",
    "for i = 1:p\n",
    "    h = h/2\n",
    "    a = 1.0;\n",
    "    m = convert(Int64,1/h)-1;\n",
    "    k = h/(a)\n",
    "    T = 10.\n",
    "    A = Tridiagonal(fill(-1.0,m),fill(0.0,m+1),fill(1.0,m)) |> sparse; \n",
    "    D = Tridiagonal(fill(1.0,m),fill(-2.0,m+1),fill(1.0,m)) |> sparse;\n",
    "    vec = [1,-4,3]\n",
    "    A[end,end-2:end] = vec; # same as Lax-Friedrichs\n",
    "    # Construct a backward second-order approximation of the second derivative\n",
    "    D[end,:] *= 0.0\n",
    "    D[end,end-3:end-1] += (vec[1]/2)*[-.5,0,.5]\n",
    "    D[end,end-2:end] += (vec[2]/2)*[-.5,0,.5]\n",
    "    D[end,end-2:end] += vec[3]*vec/4;\n",
    "    \n",
    "    n = convert(Int64,ceil(T/k))\n",
    "    x = h:h:1 # include right end point\n",
    "    U = η(x)\n",
    "    t = 0.0\n",
    "\n",
    "    for i = 2:n+1\n",
    "        t += k\n",
    "        U += -(a*k/(2h))*(A*U) + (a^2*k^2/(2h^2))*(D*U)\n",
    "        U[1] += (a*k/(2h) + (a^2*k^2/(2h^2)))*g0(t-k)\n",
    "    end\n",
    "    out[i] = maximum(abs.(U - u(x,T)))\n",
    "end\n",
    "out[1:end-1]./out[2:end]"
   ]
  },
  {
   "cell_type": "code",
   "execution_count": null,
   "metadata": {},
   "outputs": [],
   "source": [
    "η = x -> x.*exp.(-10*(x .- 1).^2)\n",
    "η(0.00001)"
   ]
  },
  {
   "cell_type": "code",
   "execution_count": null,
   "metadata": {},
   "outputs": [],
   "source": [
    "η = x -> exp.(-20*(x .-1/2).^2)\n",
    "g0 = t -> sin(4*t)^2.\n",
    "h = 0.2\n",
    "\n",
    "h = h/2^10\n",
    "a = 1.0;\n",
    "m = convert(Int64,1/h)-1;\n",
    "k = h/(a)\n",
    "T = 10.\n",
    "A = Tridiagonal(fill(-1.0,m),fill(0.0,m+1),fill(1.0,m)) |> sparse; \n",
    "D = Tridiagonal(fill(1.0,m),fill(-2.0,m+1),fill(1.0,m)) |> sparse;\n",
    "vec = [1,-4,3]\n",
    "A[end,end-2:end] = vec; # same as Lax-Friedrichs\n",
    "# Construct a backward second-order approximation of the second derivative\n",
    "D[end,:] *= 0.0\n",
    "D[end,end-3:end-1] += (vec[1]/2)*[-.5,0,.5]\n",
    "D[end,end-2:end] += (vec[2]/2)*[-.5,0,.5]\n",
    "D[end,end-2:end] += vec[3]*vec/4;\n",
    "    \n",
    "n = convert(Int64,ceil(T/k))\n",
    "x = h:h:1 # include right end point\n",
    "U = η(x)\n",
    "t = 0.0\n",
    "\n",
    "for i = 2:n+1\n",
    "    t += k\n",
    "    U += -(a*k/(2h))*(A*U) + (a^2*k^2/(2h^2))*(D*U)\n",
    "    U[1] += (a*k/(2h) + (a^2*k^2/(2h^2)))*g0(t-k)\n",
    "end\n",
    "U_true = U;"
   ]
  },
  {
   "cell_type": "code",
   "execution_count": null,
   "metadata": {},
   "outputs": [],
   "source": [
    "h = 0.2\n",
    "p = 7\n",
    "out = fill(0.0,p)\n",
    "for i = 1:p\n",
    "    h = h/2\n",
    "    a = 1.0;\n",
    "    m = convert(Int64,1/h)-1;\n",
    "    k = h/(a)\n",
    "    T = 10.\n",
    "    A = Tridiagonal(fill(-1.0,m),fill(0.0,m+1),fill(1.0,m)) |> sparse; \n",
    "    D = Tridiagonal(fill(1.0,m),fill(-2.0,m+1),fill(1.0,m)) |> sparse;\n",
    "    vec = [1,-4,3]\n",
    "    A[end,end-2:end] = vec; # same as Lax-Friedrichs\n",
    "    # Construct a backward second-order approximation of the second derivative\n",
    "    D[end,:] *= 0.0\n",
    "    D[end,end-3:end-1] += (vec[1]/2)*[-.5,0,.5]\n",
    "    D[end,end-2:end] += (vec[2]/2)*[-.5,0,.5]\n",
    "    D[end,end-2:end] += vec[3]*vec/4;\n",
    "    \n",
    "    n = convert(Int64,ceil(T/k))\n",
    "    x = h:h:1 # include right end point\n",
    "    U = η(x)\n",
    "    t = 0.0\n",
    "\n",
    "    for i = 2:n+1\n",
    "        t += k\n",
    "        U += -(a*k/(2h))*(A*U) + (a^2*k^2/(2h^2))*(D*U)\n",
    "        U[1] += (a*k/(2h) + (a^2*k^2/(2h^2)))*g0(t-k)\n",
    "    end\n",
    "    U_true_p = U_true[end:-2^(10-i):1]\n",
    "    out[i] = maximum(abs.(U[end:-1:1] - U_true_p))\n",
    "end\n",
    "out[1:end-1]./out[2:end]"
   ]
  },
  {
   "cell_type": "code",
   "execution_count": null,
   "metadata": {},
   "outputs": [],
   "source": []
  }
 ],
 "metadata": {
  "kernelspec": {
   "display_name": "Julia 1.6.3",
   "language": "julia",
   "name": "julia-1.6"
  },
  "language_info": {
   "file_extension": ".jl",
   "mimetype": "application/julia",
   "name": "julia",
   "version": "1.6.3"
  }
 },
 "nbformat": 4,
 "nbformat_minor": 2
}
